{
 "cells": [
  {
   "cell_type": "code",
   "execution_count": 1,
   "id": "ef12d5cc-a1e2-4136-b6bb-ab6627204521",
   "metadata": {},
   "outputs": [],
   "source": [
    "import os\n",
    "import numpy as np\n",
    "import pandas as pd\n",
    "from sklearn.metrics import r2_score, mean_squared_error\n",
    "import pickle"
   ]
  },
  {
   "cell_type": "code",
   "execution_count": 2,
   "id": "7bbec10e-190c-4b66-9d14-ced1a24374cc",
   "metadata": {},
   "outputs": [],
   "source": [
    "X_test = pd.read_csv(\"../data/raw/X_test.csv\", parse_dates=['year'])\n",
    "X_test['year'] = X_test['year'].dt.year\n",
    "y_test = pd.read_csv(\"../data/raw/y_test.csv\")"
   ]
  },
  {
   "cell_type": "code",
   "execution_count": 3,
   "id": "0e9df2a6-6197-4b5b-bbd5-4da64806ff28",
   "metadata": {},
   "outputs": [
    {
     "data": {
      "text/html": [
       "<div>\n",
       "<style scoped>\n",
       "    .dataframe tbody tr th:only-of-type {\n",
       "        vertical-align: middle;\n",
       "    }\n",
       "\n",
       "    .dataframe tbody tr th {\n",
       "        vertical-align: top;\n",
       "    }\n",
       "\n",
       "    .dataframe thead th {\n",
       "        text-align: right;\n",
       "    }\n",
       "</style>\n",
       "<table border=\"1\" class=\"dataframe\">\n",
       "  <thead>\n",
       "    <tr style=\"text-align: right;\">\n",
       "      <th></th>\n",
       "      <th>carID</th>\n",
       "      <th>brand</th>\n",
       "      <th>model</th>\n",
       "      <th>year</th>\n",
       "      <th>transmission</th>\n",
       "      <th>mileage</th>\n",
       "      <th>fuelType</th>\n",
       "      <th>tax</th>\n",
       "      <th>mpg</th>\n",
       "      <th>engineSize</th>\n",
       "    </tr>\n",
       "  </thead>\n",
       "  <tbody>\n",
       "    <tr>\n",
       "      <th>0</th>\n",
       "      <td>12000</td>\n",
       "      <td>merc</td>\n",
       "      <td>GLS Class</td>\n",
       "      <td>2017</td>\n",
       "      <td>Automatic</td>\n",
       "      <td>12046</td>\n",
       "      <td>Diesel</td>\n",
       "      <td>150.0</td>\n",
       "      <td>37.2</td>\n",
       "      <td>3.0</td>\n",
       "    </tr>\n",
       "    <tr>\n",
       "      <th>1</th>\n",
       "      <td>12001</td>\n",
       "      <td>vw</td>\n",
       "      <td>Amarok</td>\n",
       "      <td>2017</td>\n",
       "      <td>Automatic</td>\n",
       "      <td>37683</td>\n",
       "      <td>Diesel</td>\n",
       "      <td>260.0</td>\n",
       "      <td>36.2</td>\n",
       "      <td>3.0</td>\n",
       "    </tr>\n",
       "    <tr>\n",
       "      <th>2</th>\n",
       "      <td>12004</td>\n",
       "      <td>merc</td>\n",
       "      <td>GLS Class</td>\n",
       "      <td>2019</td>\n",
       "      <td>Automatic</td>\n",
       "      <td>10000</td>\n",
       "      <td>Diesel</td>\n",
       "      <td>145.0</td>\n",
       "      <td>34.0</td>\n",
       "      <td>3.0</td>\n",
       "    </tr>\n",
       "    <tr>\n",
       "      <th>3</th>\n",
       "      <td>12013</td>\n",
       "      <td>skoda</td>\n",
       "      <td>Scala</td>\n",
       "      <td>2019</td>\n",
       "      <td>Manual</td>\n",
       "      <td>3257</td>\n",
       "      <td>Petrol</td>\n",
       "      <td>145.0</td>\n",
       "      <td>49.6</td>\n",
       "      <td>1.0</td>\n",
       "    </tr>\n",
       "    <tr>\n",
       "      <th>4</th>\n",
       "      <td>12017</td>\n",
       "      <td>audi</td>\n",
       "      <td>RS6</td>\n",
       "      <td>2015</td>\n",
       "      <td>Semi-Auto</td>\n",
       "      <td>20982</td>\n",
       "      <td>Petrol</td>\n",
       "      <td>325.0</td>\n",
       "      <td>29.4</td>\n",
       "      <td>4.0</td>\n",
       "    </tr>\n",
       "    <tr>\n",
       "      <th>...</th>\n",
       "      <td>...</td>\n",
       "      <td>...</td>\n",
       "      <td>...</td>\n",
       "      <td>...</td>\n",
       "      <td>...</td>\n",
       "      <td>...</td>\n",
       "      <td>...</td>\n",
       "      <td>...</td>\n",
       "      <td>...</td>\n",
       "      <td>...</td>\n",
       "    </tr>\n",
       "    <tr>\n",
       "      <th>2667</th>\n",
       "      <td>19618</td>\n",
       "      <td>audi</td>\n",
       "      <td>A7</td>\n",
       "      <td>2015</td>\n",
       "      <td>Semi-Auto</td>\n",
       "      <td>21100</td>\n",
       "      <td>Petrol</td>\n",
       "      <td>325.0</td>\n",
       "      <td>29.7</td>\n",
       "      <td>4.0</td>\n",
       "    </tr>\n",
       "    <tr>\n",
       "      <th>2668</th>\n",
       "      <td>19620</td>\n",
       "      <td>merc</td>\n",
       "      <td>CLS Class</td>\n",
       "      <td>2015</td>\n",
       "      <td>Automatic</td>\n",
       "      <td>60972</td>\n",
       "      <td>Diesel</td>\n",
       "      <td>160.0</td>\n",
       "      <td>52.3</td>\n",
       "      <td>3.0</td>\n",
       "    </tr>\n",
       "    <tr>\n",
       "      <th>2669</th>\n",
       "      <td>19626</td>\n",
       "      <td>ford</td>\n",
       "      <td>Puma</td>\n",
       "      <td>2020</td>\n",
       "      <td>Manual</td>\n",
       "      <td>4111</td>\n",
       "      <td>Petrol</td>\n",
       "      <td>145.0</td>\n",
       "      <td>50.4</td>\n",
       "      <td>1.0</td>\n",
       "    </tr>\n",
       "    <tr>\n",
       "      <th>2670</th>\n",
       "      <td>19630</td>\n",
       "      <td>merc</td>\n",
       "      <td>CLA Class</td>\n",
       "      <td>2016</td>\n",
       "      <td>Automatic</td>\n",
       "      <td>25726</td>\n",
       "      <td>Petrol</td>\n",
       "      <td>200.0</td>\n",
       "      <td>41.5</td>\n",
       "      <td>2.0</td>\n",
       "    </tr>\n",
       "    <tr>\n",
       "      <th>2671</th>\n",
       "      <td>19631</td>\n",
       "      <td>vauxhall</td>\n",
       "      <td>Antara</td>\n",
       "      <td>2007</td>\n",
       "      <td>Automatic</td>\n",
       "      <td>99500</td>\n",
       "      <td>Diesel</td>\n",
       "      <td>565.0</td>\n",
       "      <td>32.8</td>\n",
       "      <td>2.0</td>\n",
       "    </tr>\n",
       "  </tbody>\n",
       "</table>\n",
       "<p>2672 rows × 10 columns</p>\n",
       "</div>"
      ],
      "text/plain": [
       "      carID     brand       model  year transmission  mileage fuelType    tax  \\\n",
       "0     12000      merc   GLS Class  2017    Automatic    12046   Diesel  150.0   \n",
       "1     12001        vw      Amarok  2017    Automatic    37683   Diesel  260.0   \n",
       "2     12004      merc   GLS Class  2019    Automatic    10000   Diesel  145.0   \n",
       "3     12013     skoda       Scala  2019       Manual     3257   Petrol  145.0   \n",
       "4     12017      audi         RS6  2015    Semi-Auto    20982   Petrol  325.0   \n",
       "...     ...       ...         ...   ...          ...      ...      ...    ...   \n",
       "2667  19618      audi          A7  2015    Semi-Auto    21100   Petrol  325.0   \n",
       "2668  19620      merc   CLS Class  2015    Automatic    60972   Diesel  160.0   \n",
       "2669  19626      ford        Puma  2020       Manual     4111   Petrol  145.0   \n",
       "2670  19630      merc   CLA Class  2016    Automatic    25726   Petrol  200.0   \n",
       "2671  19631  vauxhall      Antara  2007    Automatic    99500   Diesel  565.0   \n",
       "\n",
       "       mpg  engineSize  \n",
       "0     37.2         3.0  \n",
       "1     36.2         3.0  \n",
       "2     34.0         3.0  \n",
       "3     49.6         1.0  \n",
       "4     29.4         4.0  \n",
       "...    ...         ...  \n",
       "2667  29.7         4.0  \n",
       "2668  52.3         3.0  \n",
       "2669  50.4         1.0  \n",
       "2670  41.5         2.0  \n",
       "2671  32.8         2.0  \n",
       "\n",
       "[2672 rows x 10 columns]"
      ]
     },
     "execution_count": 3,
     "metadata": {},
     "output_type": "execute_result"
    }
   ],
   "source": [
    "X_test"
   ]
  },
  {
   "cell_type": "code",
   "execution_count": 4,
   "id": "cfb48d8d-d65e-4541-9545-8ba1482ce765",
   "metadata": {},
   "outputs": [
    {
     "data": {
      "text/plain": [
       "0       38000\n",
       "1       23495\n",
       "2       59999\n",
       "3       16713\n",
       "4       46000\n",
       "        ...  \n",
       "2667    28990\n",
       "2668    17450\n",
       "2669    21995\n",
       "2670    18700\n",
       "2671     2999\n",
       "Name: price, Length: 2672, dtype: int64"
      ]
     },
     "execution_count": 4,
     "metadata": {},
     "output_type": "execute_result"
    }
   ],
   "source": [
    "y_test['price']"
   ]
  },
  {
   "cell_type": "code",
   "execution_count": 5,
   "id": "447a0d18-31b9-4647-8d17-cb017202d555",
   "metadata": {},
   "outputs": [],
   "source": [
    "final_model = pickle.load(open('../deployment/final_model.pickle', 'rb'))"
   ]
  },
  {
   "cell_type": "code",
   "execution_count": 6,
   "id": "d42aa7e5-675d-4f46-a605-0deb3f641fa8",
   "metadata": {},
   "outputs": [],
   "source": [
    "y_predict = final_model.predict(X_test)"
   ]
  },
  {
   "cell_type": "code",
   "execution_count": 7,
   "id": "4b8329d7-0f3a-4fb5-9293-dde1f50652be",
   "metadata": {},
   "outputs": [
    {
     "data": {
      "text/plain": [
       "2672"
      ]
     },
     "execution_count": 7,
     "metadata": {},
     "output_type": "execute_result"
    }
   ],
   "source": [
    "len(y_predict)"
   ]
  },
  {
   "cell_type": "code",
   "execution_count": 8,
   "id": "59e8fd15-7ca0-4440-bffe-5dcf8f9e3fce",
   "metadata": {},
   "outputs": [
    {
     "data": {
      "text/plain": [
       "2672"
      ]
     },
     "execution_count": 8,
     "metadata": {},
     "output_type": "execute_result"
    }
   ],
   "source": [
    "len(y_test)"
   ]
  },
  {
   "cell_type": "code",
   "execution_count": 9,
   "id": "fdd03b52-a8b8-45bd-a446-714cc7074fa5",
   "metadata": {},
   "outputs": [],
   "source": [
    "Neg_RMSE = np.sqrt(mean_squared_error(y_test['price'],y_predict))"
   ]
  },
  {
   "cell_type": "code",
   "execution_count": 10,
   "id": "c5134bfb-a1b5-4bcd-8d27-f9af7eae8951",
   "metadata": {},
   "outputs": [],
   "source": [
    "r2 = r2_score(y_test['price'], y_predict)"
   ]
  },
  {
   "cell_type": "code",
   "execution_count": 11,
   "id": "861ed72b-3c04-4948-88d9-58f7df2e684c",
   "metadata": {},
   "outputs": [],
   "source": [
    "scores_df = pd.DataFrame(\n",
    "        {'Neg_RMSE': [Neg_RMSE],\n",
    "        'R_sqaured': [r2]}\n",
    "        )"
   ]
  },
  {
   "cell_type": "code",
   "execution_count": 12,
   "id": "cb244514-d4cf-46ce-8cf4-1858c0900a53",
   "metadata": {},
   "outputs": [
    {
     "data": {
      "text/html": [
       "<div>\n",
       "<style scoped>\n",
       "    .dataframe tbody tr th:only-of-type {\n",
       "        vertical-align: middle;\n",
       "    }\n",
       "\n",
       "    .dataframe tbody tr th {\n",
       "        vertical-align: top;\n",
       "    }\n",
       "\n",
       "    .dataframe thead th {\n",
       "        text-align: right;\n",
       "    }\n",
       "</style>\n",
       "<table border=\"1\" class=\"dataframe\">\n",
       "  <thead>\n",
       "    <tr style=\"text-align: right;\">\n",
       "      <th></th>\n",
       "      <th>Neg_RMSE</th>\n",
       "      <th>R_sqaured</th>\n",
       "    </tr>\n",
       "  </thead>\n",
       "  <tbody>\n",
       "    <tr>\n",
       "      <th>0</th>\n",
       "      <td>3391.45522</td>\n",
       "      <td>0.958248</td>\n",
       "    </tr>\n",
       "  </tbody>\n",
       "</table>\n",
       "</div>"
      ],
      "text/plain": [
       "     Neg_RMSE  R_sqaured\n",
       "0  3391.45522   0.958248"
      ]
     },
     "execution_count": 12,
     "metadata": {},
     "output_type": "execute_result"
    }
   ],
   "source": [
    "scores_df"
   ]
  }
 ],
 "metadata": {
  "kernelspec": {
   "display_name": "Python 3 (ipykernel)",
   "language": "python",
   "name": "python3"
  },
  "language_info": {
   "codemirror_mode": {
    "name": "ipython",
    "version": 3
   },
   "file_extension": ".py",
   "mimetype": "text/x-python",
   "name": "python",
   "nbconvert_exporter": "python",
   "pygments_lexer": "ipython3",
   "version": "3.9.12"
  },
  "vscode": {
   "interpreter": {
    "hash": "7d1d7773ecd84a3afea7435f26c8694144f2acd020fb900c1ab5cc9aea234336"
   }
  }
 },
 "nbformat": 4,
 "nbformat_minor": 5
}
