{
 "cells": [
  {
   "cell_type": "code",
   "execution_count": 53,
   "id": "c50cbb7b-6fba-40cc-ac37-a3b0b0dc0aa8",
   "metadata": {},
   "outputs": [
    {
     "data": {
      "text/plain": [
       "RendererRegistry.enable('mimetype')"
      ]
     },
     "execution_count": 53,
     "metadata": {},
     "output_type": "execute_result"
    }
   ],
   "source": [
    "import os\n",
    "import matplotlib.pyplot as plt\n",
    "import numpy as np\n",
    "import pandas as pd\n",
    "import altair as alt\n",
    "from sklearn import datasets\n",
    "from sklearn.compose import ColumnTransformer, make_column_transformer\n",
    "from sklearn.dummy import DummyRegressor\n",
    "from sklearn.ensemble import RandomForestRegressor\n",
    "from catboost import CatBoostRegressor\n",
    "from sklearn.impute import SimpleImputer\n",
    "from sklearn.linear_model import Ridge, RidgeCV, Lasso\n",
    "from sklearn.svm import SVC, SVR\n",
    "from sklearn.metrics import r2_score\n",
    "from sklearn.ensemble import VotingRegressor\n",
    "from sklearn.ensemble import StackingRegressor\n",
    "from sklearn.feature_selection import RFE, RFECV\n",
    "from sklearn.model_selection import (\n",
    " cross_val_score,\n",
    " cross_validate,\n",
    " train_test_split,\n",
    " GridSearchCV,\n",
    " RandomizedSearchCV\n",
    ")\n",
    "from sklearn.pipeline import Pipeline, make_pipeline\n",
    "from sklearn.preprocessing import OneHotEncoder, OrdinalEncoder, StandardScaler\n",
    "from sklearn.tree import DecisionTreeRegressor, export_graphviz\n",
    "from xgboost import XGBRegressor\n",
    "from catboost import CatBoostRegressor\n",
    "from lightgbm.sklearn import LGBMRegressor\n",
    "import shap\n",
    "# Save a vega-lite spec and a PNG blob for each plot in the notebook\n",
    "alt.renderers.enable('mimetype')\n"
   ]
  },
  {
   "cell_type": "markdown",
   "id": "d271a70b-8beb-459d-a513-cb7badc2daf8",
   "metadata": {},
   "source": [
    "### Transform data "
   ]
  },
  {
   "cell_type": "code",
   "execution_count": 2,
   "id": "35ba837d-ec32-4ca6-94f8-555392d90178",
   "metadata": {},
   "outputs": [],
   "source": [
    "X_train = pd.read_csv(\"../data/raw/X_train.csv\", parse_dates=['year'])\n",
    "X_train['year'] = X_train['year'].dt.year\n",
    "y_train = pd.read_csv(\"../data/raw/y_train.csv\")\n",
    "train_df = X_train.join(y_train.set_index('carID'), on = \"carID\")"
   ]
  },
  {
   "cell_type": "code",
   "execution_count": 3,
   "id": "7bae8b7c-16e7-4265-ac7f-4f47fb1dbb60",
   "metadata": {},
   "outputs": [
    {
     "data": {
      "text/html": [
       "<div>\n",
       "<style scoped>\n",
       "    .dataframe tbody tr th:only-of-type {\n",
       "        vertical-align: middle;\n",
       "    }\n",
       "\n",
       "    .dataframe tbody tr th {\n",
       "        vertical-align: top;\n",
       "    }\n",
       "\n",
       "    .dataframe thead th {\n",
       "        text-align: right;\n",
       "    }\n",
       "</style>\n",
       "<table border=\"1\" class=\"dataframe\">\n",
       "  <thead>\n",
       "    <tr style=\"text-align: right;\">\n",
       "      <th></th>\n",
       "      <th>carID</th>\n",
       "      <th>brand</th>\n",
       "      <th>model</th>\n",
       "      <th>year</th>\n",
       "      <th>transmission</th>\n",
       "      <th>mileage</th>\n",
       "      <th>fuelType</th>\n",
       "      <th>tax</th>\n",
       "      <th>mpg</th>\n",
       "      <th>engineSize</th>\n",
       "      <th>price</th>\n",
       "    </tr>\n",
       "  </thead>\n",
       "  <tbody>\n",
       "    <tr>\n",
       "      <th>0</th>\n",
       "      <td>13207</td>\n",
       "      <td>hyundi</td>\n",
       "      <td>Santa Fe</td>\n",
       "      <td>2019</td>\n",
       "      <td>Semi-Auto</td>\n",
       "      <td>4223</td>\n",
       "      <td>Diesel</td>\n",
       "      <td>145.0</td>\n",
       "      <td>39.8</td>\n",
       "      <td>2.2</td>\n",
       "      <td>31995</td>\n",
       "    </tr>\n",
       "    <tr>\n",
       "      <th>1</th>\n",
       "      <td>17314</td>\n",
       "      <td>vauxhall</td>\n",
       "      <td>GTC</td>\n",
       "      <td>2015</td>\n",
       "      <td>Manual</td>\n",
       "      <td>47870</td>\n",
       "      <td>Diesel</td>\n",
       "      <td>125.0</td>\n",
       "      <td>60.1</td>\n",
       "      <td>2.0</td>\n",
       "      <td>7700</td>\n",
       "    </tr>\n",
       "    <tr>\n",
       "      <th>2</th>\n",
       "      <td>12342</td>\n",
       "      <td>audi</td>\n",
       "      <td>RS4</td>\n",
       "      <td>2019</td>\n",
       "      <td>Automatic</td>\n",
       "      <td>5151</td>\n",
       "      <td>Petrol</td>\n",
       "      <td>145.0</td>\n",
       "      <td>29.1</td>\n",
       "      <td>2.9</td>\n",
       "      <td>58990</td>\n",
       "    </tr>\n",
       "    <tr>\n",
       "      <th>3</th>\n",
       "      <td>13426</td>\n",
       "      <td>vw</td>\n",
       "      <td>Scirocco</td>\n",
       "      <td>2016</td>\n",
       "      <td>Automatic</td>\n",
       "      <td>20423</td>\n",
       "      <td>Diesel</td>\n",
       "      <td>30.0</td>\n",
       "      <td>57.6</td>\n",
       "      <td>2.0</td>\n",
       "      <td>12999</td>\n",
       "    </tr>\n",
       "    <tr>\n",
       "      <th>4</th>\n",
       "      <td>16004</td>\n",
       "      <td>skoda</td>\n",
       "      <td>Scala</td>\n",
       "      <td>2020</td>\n",
       "      <td>Semi-Auto</td>\n",
       "      <td>3569</td>\n",
       "      <td>Petrol</td>\n",
       "      <td>145.0</td>\n",
       "      <td>47.1</td>\n",
       "      <td>1.0</td>\n",
       "      <td>16990</td>\n",
       "    </tr>\n",
       "  </tbody>\n",
       "</table>\n",
       "</div>"
      ],
      "text/plain": [
       "   carID     brand      model  year transmission  mileage fuelType    tax  \\\n",
       "0  13207    hyundi   Santa Fe  2019    Semi-Auto     4223   Diesel  145.0   \n",
       "1  17314  vauxhall        GTC  2015       Manual    47870   Diesel  125.0   \n",
       "2  12342      audi        RS4  2019    Automatic     5151   Petrol  145.0   \n",
       "3  13426        vw   Scirocco  2016    Automatic    20423   Diesel   30.0   \n",
       "4  16004     skoda      Scala  2020    Semi-Auto     3569   Petrol  145.0   \n",
       "\n",
       "    mpg  engineSize  price  \n",
       "0  39.8         2.2  31995  \n",
       "1  60.1         2.0   7700  \n",
       "2  29.1         2.9  58990  \n",
       "3  57.6         2.0  12999  \n",
       "4  47.1         1.0  16990  "
      ]
     },
     "execution_count": 3,
     "metadata": {},
     "output_type": "execute_result"
    }
   ],
   "source": [
    "train_df.head()"
   ]
  },
  {
   "cell_type": "code",
   "execution_count": 4,
   "id": "c0308bc2-423c-4069-a3b7-7abe8885e5d1",
   "metadata": {},
   "outputs": [
    {
     "name": "stdout",
     "output_type": "stream",
     "text": [
      "<class 'pandas.core.frame.DataFrame'>\n",
      "RangeIndex: 4960 entries, 0 to 4959\n",
      "Data columns (total 11 columns):\n",
      " #   Column        Non-Null Count  Dtype  \n",
      "---  ------        --------------  -----  \n",
      " 0   carID         4960 non-null   int64  \n",
      " 1   brand         4960 non-null   object \n",
      " 2   model         4960 non-null   object \n",
      " 3   year          4960 non-null   int64  \n",
      " 4   transmission  4960 non-null   object \n",
      " 5   mileage       4960 non-null   int64  \n",
      " 6   fuelType      4960 non-null   object \n",
      " 7   tax           4960 non-null   float64\n",
      " 8   mpg           4960 non-null   float64\n",
      " 9   engineSize    4960 non-null   float64\n",
      " 10  price         4960 non-null   int64  \n",
      "dtypes: float64(3), int64(4), object(4)\n",
      "memory usage: 426.4+ KB\n"
     ]
    }
   ],
   "source": [
    "train_df.info()"
   ]
  },
  {
   "cell_type": "code",
   "execution_count": 5,
   "id": "5efe2692-7c2c-48d4-a84e-d0bebdfe5a2c",
   "metadata": {},
   "outputs": [],
   "source": [
    "drop_features = [\"carID\"]\n",
    "categorical_features = [\"brand\", \"model\", \"year\", \"transmission\", \"fuelType\"]\n",
    "target = \"price\"\n",
    "numeric_features = list(\n",
    "    set(train_df.columns)\n",
    "    - set(drop_features)\n",
    "    - set(categorical_features)\n",
    "    - set([target])\n",
    ")\n",
    "assert train_df.columns.shape[0] == len(\n",
    "    drop_features\n",
    "    + categorical_features\n",
    "    + numeric_features\n",
    "    + [target]\n",
    ")"
   ]
  },
  {
   "cell_type": "code",
   "execution_count": 6,
   "id": "4372221b-fad0-4b03-80d4-6ef6e3b6973c",
   "metadata": {},
   "outputs": [],
   "source": [
    "preprocessor = make_column_transformer(\n",
    "    (StandardScaler(), numeric_features),\n",
    "    (OneHotEncoder(handle_unknown=\"ignore\", dtype=\"int\"), categorical_features),\n",
    "    (\"drop\", drop_features))"
   ]
  },
  {
   "cell_type": "code",
   "execution_count": 7,
   "id": "9ac13fd8-70bc-48e6-b9ae-3506d3fe036d",
   "metadata": {},
   "outputs": [],
   "source": [
    "X_train, y_train = train_df.drop(columns=[target]), train_df[target]"
   ]
  },
  {
   "cell_type": "code",
   "execution_count": 8,
   "id": "38126db2-aa1c-4af4-a001-cd6af61e5c93",
   "metadata": {},
   "outputs": [],
   "source": [
    "scoring_metrics = {\n",
    "    \"neg RMSE\": \"neg_root_mean_squared_error\",\n",
    "    \"r2\": \"r2\"}"
   ]
  },
  {
   "cell_type": "code",
   "execution_count": 9,
   "id": "86744154-8c6a-4685-9d9e-3f61e16f4baf",
   "metadata": {},
   "outputs": [
    {
     "data": {
      "text/plain": [
       "ColumnTransformer(transformers=[('standardscaler', StandardScaler(),\n",
       "                                 ['mileage', 'mpg', 'engineSize', 'tax']),\n",
       "                                ('onehotencoder',\n",
       "                                 OneHotEncoder(dtype='int',\n",
       "                                               handle_unknown='ignore'),\n",
       "                                 ['brand', 'model', 'year', 'transmission',\n",
       "                                  'fuelType']),\n",
       "                                ('drop', 'drop', ['carID'])])"
      ]
     },
     "execution_count": 9,
     "metadata": {},
     "output_type": "execute_result"
    }
   ],
   "source": [
    "preprocessor.fit(X_train)"
   ]
  },
  {
   "cell_type": "markdown",
   "id": "bb4ca3e4-98d1-446c-a167-af17570ec0c7",
   "metadata": {
    "tags": []
   },
   "source": [
    "### Models"
   ]
  },
  {
   "cell_type": "markdown",
   "id": "eaf8ffce-2588-4ef2-91d0-b53ecd301e49",
   "metadata": {},
   "source": [
    "#### baseline"
   ]
  },
  {
   "cell_type": "code",
   "execution_count": 10,
   "id": "bf175114-6325-40fa-84eb-e840470675b1",
   "metadata": {},
   "outputs": [],
   "source": [
    "def mean_std_cross_val_scores(model, X_train, y_train, **kwargs):\n",
    "    \"\"\"\n",
    "    Returns mean and std of cross validation\n",
    "\n",
    "    Parameters\n",
    "    ----------\n",
    "    model :\n",
    "        scikit-learn model\n",
    "    X_train : numpy array or pandas DataFrame\n",
    "        X in the training data\n",
    "    y_train :\n",
    "        y in the training data\n",
    "\n",
    "    Returns\n",
    "    ----------\n",
    "        pandas Series with mean scores from cross_validation\n",
    "    \"\"\"\n",
    "\n",
    "    scores = cross_validate(model, X_train, y_train, **kwargs)\n",
    "\n",
    "    mean_scores = pd.DataFrame(scores).mean()\n",
    "    std_scores = pd.DataFrame(scores).std()\n",
    "    out_col = []\n",
    "\n",
    "    for i in range(len(mean_scores)):\n",
    "        out_col.append((f\"%0.3f (+/- %0.3f)\" % (mean_scores[i], std_scores[i])))\n",
    "\n",
    "    return pd.Series(data=out_col, index=mean_scores.index)"
   ]
  },
  {
   "cell_type": "code",
   "execution_count": 11,
   "id": "fbae9a2c-f637-453a-9cbf-009d93e4243a",
   "metadata": {},
   "outputs": [],
   "source": [
    "results ={}"
   ]
  },
  {
   "cell_type": "code",
   "execution_count": 12,
   "id": "82b9d8c1-b78b-4133-961a-6524e126772c",
   "metadata": {},
   "outputs": [],
   "source": [
    "dummy = DummyRegressor()\n",
    "results[\"Dummy\"] = mean_std_cross_val_scores(\n",
    "    dummy, X_train, y_train, return_train_score=True, scoring=scoring_metrics\n",
    ")"
   ]
  },
  {
   "cell_type": "code",
   "execution_count": 13,
   "id": "c6845b6d-5039-414b-a298-91926026464e",
   "metadata": {},
   "outputs": [
    {
     "data": {
      "text/html": [
       "<div>\n",
       "<style scoped>\n",
       "    .dataframe tbody tr th:only-of-type {\n",
       "        vertical-align: middle;\n",
       "    }\n",
       "\n",
       "    .dataframe tbody tr th {\n",
       "        vertical-align: top;\n",
       "    }\n",
       "\n",
       "    .dataframe thead th {\n",
       "        text-align: right;\n",
       "    }\n",
       "</style>\n",
       "<table border=\"1\" class=\"dataframe\">\n",
       "  <thead>\n",
       "    <tr style=\"text-align: right;\">\n",
       "      <th></th>\n",
       "      <th>Dummy</th>\n",
       "    </tr>\n",
       "  </thead>\n",
       "  <tbody>\n",
       "    <tr>\n",
       "      <th>fit_time</th>\n",
       "      <td>0.002 (+/- 0.002)</td>\n",
       "    </tr>\n",
       "    <tr>\n",
       "      <th>score_time</th>\n",
       "      <td>0.001 (+/- 0.001)</td>\n",
       "    </tr>\n",
       "    <tr>\n",
       "      <th>test_neg RMSE</th>\n",
       "      <td>-16394.964 (+/- 837.605)</td>\n",
       "    </tr>\n",
       "    <tr>\n",
       "      <th>train_neg RMSE</th>\n",
       "      <td>-16403.194 (+/- 211.166)</td>\n",
       "    </tr>\n",
       "    <tr>\n",
       "      <th>test_r2</th>\n",
       "      <td>-0.003 (+/- 0.002)</td>\n",
       "    </tr>\n",
       "    <tr>\n",
       "      <th>train_r2</th>\n",
       "      <td>0.000 (+/- 0.000)</td>\n",
       "    </tr>\n",
       "  </tbody>\n",
       "</table>\n",
       "</div>"
      ],
      "text/plain": [
       "                                   Dummy\n",
       "fit_time               0.002 (+/- 0.002)\n",
       "score_time             0.001 (+/- 0.001)\n",
       "test_neg RMSE   -16394.964 (+/- 837.605)\n",
       "train_neg RMSE  -16403.194 (+/- 211.166)\n",
       "test_r2               -0.003 (+/- 0.002)\n",
       "train_r2               0.000 (+/- 0.000)"
      ]
     },
     "execution_count": 13,
     "metadata": {},
     "output_type": "execute_result"
    }
   ],
   "source": [
    "pd.DataFrame(results)"
   ]
  },
  {
   "cell_type": "code",
   "execution_count": 14,
   "id": "948482db-a0c1-4c34-99af-139c5f8f426d",
   "metadata": {},
   "outputs": [],
   "source": [
    "pipe_lr = make_pipeline(\n",
    "    preprocessor, Ridge(random_state=123)\n",
    ")\n",
    "\n",
    "pipe_ls = make_pipeline(\n",
    "    preprocessor, Lasso(random_state=123)\n",
    ")\n",
    "\n",
    "pipe_rf = make_pipeline(\n",
    "    preprocessor, RandomForestRegressor(random_state=123)\n",
    ")\n",
    "\n",
    "pipe_catboost = make_pipeline(\n",
    "    preprocessor, CatBoostRegressor(random_state=123, verbose = 0)\n",
    ")"
   ]
  },
  {
   "cell_type": "code",
   "execution_count": 15,
   "id": "008bca8d-6030-4b98-95fd-2d083d7a2726",
   "metadata": {},
   "outputs": [],
   "source": [
    "models = {\n",
    "    \"linear regression\": pipe_lr,\n",
    "    \"lasso\": pipe_ls,\n",
    "    \"random forest\": pipe_rf,\n",
    "    \"CatBoost\": pipe_catboost\n",
    "}"
   ]
  },
  {
   "cell_type": "code",
   "execution_count": 16,
   "id": "02815528-d3cb-44cf-ade5-c742a88589f6",
   "metadata": {},
   "outputs": [],
   "source": [
    "for (name, model) in models.items():\n",
    "    results[name] = mean_std_cross_val_scores(\n",
    "        model, X_train, y_train, return_train_score=True, scoring=scoring_metrics\n",
    "    )"
   ]
  },
  {
   "cell_type": "code",
   "execution_count": 17,
   "id": "95ee29cd-c846-45c5-ad2d-2815fabbc0e5",
   "metadata": {},
   "outputs": [
    {
     "data": {
      "text/html": [
       "<div>\n",
       "<style scoped>\n",
       "    .dataframe tbody tr th:only-of-type {\n",
       "        vertical-align: middle;\n",
       "    }\n",
       "\n",
       "    .dataframe tbody tr th {\n",
       "        vertical-align: top;\n",
       "    }\n",
       "\n",
       "    .dataframe thead th {\n",
       "        text-align: right;\n",
       "    }\n",
       "</style>\n",
       "<table border=\"1\" class=\"dataframe\">\n",
       "  <thead>\n",
       "    <tr style=\"text-align: right;\">\n",
       "      <th></th>\n",
       "      <th>Dummy</th>\n",
       "      <th>linear regression</th>\n",
       "      <th>lasso</th>\n",
       "      <th>random forest</th>\n",
       "      <th>CatBoost</th>\n",
       "    </tr>\n",
       "  </thead>\n",
       "  <tbody>\n",
       "    <tr>\n",
       "      <th>fit_time</th>\n",
       "      <td>0.002 (+/- 0.002)</td>\n",
       "      <td>0.028 (+/- 0.007)</td>\n",
       "      <td>0.725 (+/- 0.136)</td>\n",
       "      <td>7.609 (+/- 0.506)</td>\n",
       "      <td>1.979 (+/- 0.329)</td>\n",
       "    </tr>\n",
       "    <tr>\n",
       "      <th>score_time</th>\n",
       "      <td>0.001 (+/- 0.001)</td>\n",
       "      <td>0.007 (+/- 0.000)</td>\n",
       "      <td>0.008 (+/- 0.001)</td>\n",
       "      <td>0.042 (+/- 0.004)</td>\n",
       "      <td>0.019 (+/- 0.009)</td>\n",
       "    </tr>\n",
       "    <tr>\n",
       "      <th>test_neg RMSE</th>\n",
       "      <td>-16394.964 (+/- 837.605)</td>\n",
       "      <td>-5179.866 (+/- 365.046)</td>\n",
       "      <td>-5167.081 (+/- 349.605)</td>\n",
       "      <td>-3833.320 (+/- 176.925)</td>\n",
       "      <td>-3258.583 (+/- 203.897)</td>\n",
       "    </tr>\n",
       "    <tr>\n",
       "      <th>train_neg RMSE</th>\n",
       "      <td>-16403.194 (+/- 211.166)</td>\n",
       "      <td>-4996.577 (+/- 84.803)</td>\n",
       "      <td>-4963.956 (+/- 84.650)</td>\n",
       "      <td>-1514.788 (+/- 49.437)</td>\n",
       "      <td>-2208.328 (+/- 18.898)</td>\n",
       "    </tr>\n",
       "    <tr>\n",
       "      <th>test_r2</th>\n",
       "      <td>-0.003 (+/- 0.002)</td>\n",
       "      <td>0.900 (+/- 0.007)</td>\n",
       "      <td>0.900 (+/- 0.008)</td>\n",
       "      <td>0.945 (+/- 0.002)</td>\n",
       "      <td>0.960 (+/- 0.005)</td>\n",
       "    </tr>\n",
       "    <tr>\n",
       "      <th>train_r2</th>\n",
       "      <td>0.000 (+/- 0.000)</td>\n",
       "      <td>0.907 (+/- 0.002)</td>\n",
       "      <td>0.908 (+/- 0.002)</td>\n",
       "      <td>0.991 (+/- 0.001)</td>\n",
       "      <td>0.982 (+/- 0.001)</td>\n",
       "    </tr>\n",
       "  </tbody>\n",
       "</table>\n",
       "</div>"
      ],
      "text/plain": [
       "                                   Dummy        linear regression  \\\n",
       "fit_time               0.002 (+/- 0.002)        0.028 (+/- 0.007)   \n",
       "score_time             0.001 (+/- 0.001)        0.007 (+/- 0.000)   \n",
       "test_neg RMSE   -16394.964 (+/- 837.605)  -5179.866 (+/- 365.046)   \n",
       "train_neg RMSE  -16403.194 (+/- 211.166)   -4996.577 (+/- 84.803)   \n",
       "test_r2               -0.003 (+/- 0.002)        0.900 (+/- 0.007)   \n",
       "train_r2               0.000 (+/- 0.000)        0.907 (+/- 0.002)   \n",
       "\n",
       "                                  lasso            random forest  \\\n",
       "fit_time              0.725 (+/- 0.136)        7.609 (+/- 0.506)   \n",
       "score_time            0.008 (+/- 0.001)        0.042 (+/- 0.004)   \n",
       "test_neg RMSE   -5167.081 (+/- 349.605)  -3833.320 (+/- 176.925)   \n",
       "train_neg RMSE   -4963.956 (+/- 84.650)   -1514.788 (+/- 49.437)   \n",
       "test_r2               0.900 (+/- 0.008)        0.945 (+/- 0.002)   \n",
       "train_r2              0.908 (+/- 0.002)        0.991 (+/- 0.001)   \n",
       "\n",
       "                               CatBoost  \n",
       "fit_time              1.979 (+/- 0.329)  \n",
       "score_time            0.019 (+/- 0.009)  \n",
       "test_neg RMSE   -3258.583 (+/- 203.897)  \n",
       "train_neg RMSE   -2208.328 (+/- 18.898)  \n",
       "test_r2               0.960 (+/- 0.005)  \n",
       "train_r2              0.982 (+/- 0.001)  "
      ]
     },
     "execution_count": 17,
     "metadata": {},
     "output_type": "execute_result"
    }
   ],
   "source": [
    "pd.DataFrame(results)"
   ]
  },
  {
   "cell_type": "code",
   "execution_count": 18,
   "id": "8982c031-07fb-44a8-8267-46a12a0341cb",
   "metadata": {},
   "outputs": [
    {
     "data": {
      "text/plain": [
       "Pipeline(steps=[('columntransformer',\n",
       "                 ColumnTransformer(transformers=[('standardscaler',\n",
       "                                                  StandardScaler(),\n",
       "                                                  ['mileage', 'mpg',\n",
       "                                                   'engineSize', 'tax']),\n",
       "                                                 ('onehotencoder',\n",
       "                                                  OneHotEncoder(dtype='int',\n",
       "                                                                handle_unknown='ignore'),\n",
       "                                                  ['brand', 'model', 'year',\n",
       "                                                   'transmission',\n",
       "                                                   'fuelType']),\n",
       "                                                 ('drop', 'drop', ['carID'])])),\n",
       "                ('catboostregressor',\n",
       "                 <catboost.core.CatBoostRegressor object at 0x141b8cc70>)])"
      ]
     },
     "execution_count": 18,
     "metadata": {},
     "output_type": "execute_result"
    }
   ],
   "source": [
    "pipe_catboost.fit(X_train, y_train)"
   ]
  },
  {
   "cell_type": "code",
   "execution_count": 19,
   "id": "34cc037d-6a98-4ea1-9886-8a4b50553292",
   "metadata": {},
   "outputs": [
    {
     "data": {
      "image/png": "[encoded data removed]",
      "text/plain": [
       "<Figure size 432x288 with 1 Axes>"
      ]
     },
     "metadata": {
      "needs_background": "light"
     },
     "output_type": "display_data"
    }
   ],
   "source": [
    "plt.scatter(y_train, pipe_catboost.predict(X_train), alpha=0.3)\n",
    "grid = np.linspace(y_train.min(), y_train.max(), 1000)\n",
    "plt.plot(grid, grid, \"--k\")\n",
    "plt.xlabel(\"True Price\")\n",
    "plt.ylabel(\"Predicted Price\");"
   ]
  },
  {
   "cell_type": "code",
   "execution_count": 20,
   "id": "dd52b564-5194-480e-b8f1-6880cc3475ca",
   "metadata": {},
   "outputs": [
    {
     "data": {
      "text/plain": [
       "ColumnTransformer(transformers=[('standardscaler', StandardScaler(),\n",
       "                                 ['mileage', 'mpg', 'engineSize', 'tax']),\n",
       "                                ('onehotencoder',\n",
       "                                 OneHotEncoder(dtype='int',\n",
       "                                               handle_unknown='ignore'),\n",
       "                                 ['brand', 'model', 'year', 'transmission',\n",
       "                                  'fuelType']),\n",
       "                                ('drop', 'drop', ['carID'])])"
      ]
     },
     "execution_count": 20,
     "metadata": {},
     "output_type": "execute_result"
    }
   ],
   "source": [
    "preprocessor.fit(X_train, y_train)"
   ]
  },
  {
   "cell_type": "code",
   "execution_count": 21,
   "id": "f8aee4e6-7024-49a4-9c57-f1da89a0f74c",
   "metadata": {},
   "outputs": [],
   "source": [
    "feature_names = (\n",
    "    numeric_features\n",
    "    + list(\n",
    "        pipe_lr.named_steps[\"columntransformer\"]\n",
    "        .named_transformers_[\"onehotencoder\"]\n",
    "        .get_feature_names_out()\n",
    "    ))"
   ]
  },
  {
   "cell_type": "code",
   "execution_count": 24,
   "id": "b68f8a2a-a0c9-4cf0-bcbc-4df41a4f3f04",
   "metadata": {},
   "outputs": [
    {
     "data": {
      "text/html": [
       "<div>\n",
       "<style scoped>\n",
       "    .dataframe tbody tr th:only-of-type {\n",
       "        vertical-align: middle;\n",
       "    }\n",
       "\n",
       "    .dataframe tbody tr th {\n",
       "        vertical-align: top;\n",
       "    }\n",
       "\n",
       "    .dataframe thead th {\n",
       "        text-align: right;\n",
       "    }\n",
       "</style>\n",
       "<table border=\"1\" class=\"dataframe\">\n",
       "  <thead>\n",
       "    <tr style=\"text-align: right;\">\n",
       "      <th></th>\n",
       "      <th>mileage</th>\n",
       "      <th>mpg</th>\n",
       "      <th>engineSize</th>\n",
       "      <th>tax</th>\n",
       "      <th>brand_audi</th>\n",
       "      <th>brand_bmw</th>\n",
       "      <th>brand_ford</th>\n",
       "      <th>brand_hyundi</th>\n",
       "      <th>brand_merc</th>\n",
       "      <th>brand_skoda</th>\n",
       "      <th>...</th>\n",
       "      <th>year_2020</th>\n",
       "      <th>transmission_Automatic</th>\n",
       "      <th>transmission_Manual</th>\n",
       "      <th>transmission_Other</th>\n",
       "      <th>transmission_Semi-Auto</th>\n",
       "      <th>fuelType_Diesel</th>\n",
       "      <th>fuelType_Electric</th>\n",
       "      <th>fuelType_Hybrid</th>\n",
       "      <th>fuelType_Other</th>\n",
       "      <th>fuelType_Petrol</th>\n",
       "    </tr>\n",
       "  </thead>\n",
       "  <tbody>\n",
       "    <tr>\n",
       "      <th>0</th>\n",
       "      <td>-0.848304</td>\n",
       "      <td>-0.295744</td>\n",
       "      <td>0.095814</td>\n",
       "      <td>-0.088993</td>\n",
       "      <td>0.0</td>\n",
       "      <td>0.0</td>\n",
       "      <td>0.0</td>\n",
       "      <td>1.0</td>\n",
       "      <td>0.0</td>\n",
       "      <td>0.0</td>\n",
       "      <td>...</td>\n",
       "      <td>0.0</td>\n",
       "      <td>0.0</td>\n",
       "      <td>0.0</td>\n",
       "      <td>0.0</td>\n",
       "      <td>1.0</td>\n",
       "      <td>1.0</td>\n",
       "      <td>0.0</td>\n",
       "      <td>0.0</td>\n",
       "      <td>0.0</td>\n",
       "      <td>0.0</td>\n",
       "    </tr>\n",
       "    <tr>\n",
       "      <th>1</th>\n",
       "      <td>0.937516</td>\n",
       "      <td>0.272200</td>\n",
       "      <td>-0.157579</td>\n",
       "      <td>-0.331725</td>\n",
       "      <td>0.0</td>\n",
       "      <td>0.0</td>\n",
       "      <td>0.0</td>\n",
       "      <td>0.0</td>\n",
       "      <td>0.0</td>\n",
       "      <td>0.0</td>\n",
       "      <td>...</td>\n",
       "      <td>0.0</td>\n",
       "      <td>0.0</td>\n",
       "      <td>1.0</td>\n",
       "      <td>0.0</td>\n",
       "      <td>0.0</td>\n",
       "      <td>1.0</td>\n",
       "      <td>0.0</td>\n",
       "      <td>0.0</td>\n",
       "      <td>0.0</td>\n",
       "      <td>0.0</td>\n",
       "    </tr>\n",
       "    <tr>\n",
       "      <th>2</th>\n",
       "      <td>-0.810335</td>\n",
       "      <td>-0.595105</td>\n",
       "      <td>0.982689</td>\n",
       "      <td>-0.088993</td>\n",
       "      <td>1.0</td>\n",
       "      <td>0.0</td>\n",
       "      <td>0.0</td>\n",
       "      <td>0.0</td>\n",
       "      <td>0.0</td>\n",
       "      <td>0.0</td>\n",
       "      <td>...</td>\n",
       "      <td>0.0</td>\n",
       "      <td>1.0</td>\n",
       "      <td>0.0</td>\n",
       "      <td>0.0</td>\n",
       "      <td>0.0</td>\n",
       "      <td>0.0</td>\n",
       "      <td>0.0</td>\n",
       "      <td>0.0</td>\n",
       "      <td>0.0</td>\n",
       "      <td>1.0</td>\n",
       "    </tr>\n",
       "    <tr>\n",
       "      <th>3</th>\n",
       "      <td>-0.185480</td>\n",
       "      <td>0.202256</td>\n",
       "      <td>-0.157579</td>\n",
       "      <td>-1.484700</td>\n",
       "      <td>0.0</td>\n",
       "      <td>0.0</td>\n",
       "      <td>0.0</td>\n",
       "      <td>0.0</td>\n",
       "      <td>0.0</td>\n",
       "      <td>0.0</td>\n",
       "      <td>...</td>\n",
       "      <td>0.0</td>\n",
       "      <td>1.0</td>\n",
       "      <td>0.0</td>\n",
       "      <td>0.0</td>\n",
       "      <td>0.0</td>\n",
       "      <td>1.0</td>\n",
       "      <td>0.0</td>\n",
       "      <td>0.0</td>\n",
       "      <td>0.0</td>\n",
       "      <td>0.0</td>\n",
       "    </tr>\n",
       "    <tr>\n",
       "      <th>4</th>\n",
       "      <td>-0.875062</td>\n",
       "      <td>-0.091508</td>\n",
       "      <td>-1.424542</td>\n",
       "      <td>-0.088993</td>\n",
       "      <td>0.0</td>\n",
       "      <td>0.0</td>\n",
       "      <td>0.0</td>\n",
       "      <td>0.0</td>\n",
       "      <td>0.0</td>\n",
       "      <td>1.0</td>\n",
       "      <td>...</td>\n",
       "      <td>1.0</td>\n",
       "      <td>0.0</td>\n",
       "      <td>0.0</td>\n",
       "      <td>0.0</td>\n",
       "      <td>1.0</td>\n",
       "      <td>0.0</td>\n",
       "      <td>0.0</td>\n",
       "      <td>0.0</td>\n",
       "      <td>0.0</td>\n",
       "      <td>1.0</td>\n",
       "    </tr>\n",
       "  </tbody>\n",
       "</table>\n",
       "<p>5 rows × 136 columns</p>\n",
       "</div>"
      ],
      "text/plain": [
       "    mileage       mpg  engineSize       tax  brand_audi  brand_bmw  \\\n",
       "0 -0.848304 -0.295744    0.095814 -0.088993         0.0        0.0   \n",
       "1  0.937516  0.272200   -0.157579 -0.331725         0.0        0.0   \n",
       "2 -0.810335 -0.595105    0.982689 -0.088993         1.0        0.0   \n",
       "3 -0.185480  0.202256   -0.157579 -1.484700         0.0        0.0   \n",
       "4 -0.875062 -0.091508   -1.424542 -0.088993         0.0        0.0   \n",
       "\n",
       "   brand_ford  brand_hyundi  brand_merc  brand_skoda  ...  year_2020  \\\n",
       "0         0.0           1.0         0.0          0.0  ...        0.0   \n",
       "1         0.0           0.0         0.0          0.0  ...        0.0   \n",
       "2         0.0           0.0         0.0          0.0  ...        0.0   \n",
       "3         0.0           0.0         0.0          0.0  ...        0.0   \n",
       "4         0.0           0.0         0.0          1.0  ...        1.0   \n",
       "\n",
       "   transmission_Automatic  transmission_Manual  transmission_Other  \\\n",
       "0                     0.0                  0.0                 0.0   \n",
       "1                     0.0                  1.0                 0.0   \n",
       "2                     1.0                  0.0                 0.0   \n",
       "3                     1.0                  0.0                 0.0   \n",
       "4                     0.0                  0.0                 0.0   \n",
       "\n",
       "   transmission_Semi-Auto  fuelType_Diesel  fuelType_Electric  \\\n",
       "0                     1.0              1.0                0.0   \n",
       "1                     0.0              1.0                0.0   \n",
       "2                     0.0              0.0                0.0   \n",
       "3                     0.0              1.0                0.0   \n",
       "4                     1.0              0.0                0.0   \n",
       "\n",
       "   fuelType_Hybrid  fuelType_Other  fuelType_Petrol  \n",
       "0              0.0             0.0              0.0  \n",
       "1              0.0             0.0              0.0  \n",
       "2              0.0             0.0              1.0  \n",
       "3              0.0             0.0              0.0  \n",
       "4              0.0             0.0              1.0  \n",
       "\n",
       "[5 rows x 136 columns]"
      ]
     },
     "execution_count": 24,
     "metadata": {},
     "output_type": "execute_result"
    }
   ],
   "source": [
    "X_train_encode = pd.DataFrame(\n",
    "    data=preprocessor.transform(X_train).toarray(),\n",
    "    columns=feature_names,\n",
    "    index=X_train.index,\n",
    ")\n",
    "X_train_encode.head()"
   ]
  },
  {
   "cell_type": "code",
   "execution_count": 25,
   "id": "55fb1aeb-45fb-4f3e-ae9b-ba9cfd059ae2",
   "metadata": {},
   "outputs": [
    {
     "data": {
      "text/plain": [
       "Pipeline(steps=[('columntransformer',\n",
       "                 ColumnTransformer(transformers=[('standardscaler',\n",
       "                                                  StandardScaler(),\n",
       "                                                  ['mileage', 'mpg',\n",
       "                                                   'engineSize', 'tax']),\n",
       "                                                 ('onehotencoder',\n",
       "                                                  OneHotEncoder(dtype='int',\n",
       "                                                                handle_unknown='ignore'),\n",
       "                                                  ['brand', 'model', 'year',\n",
       "                                                   'transmission',\n",
       "                                                   'fuelType']),\n",
       "                                                 ('drop', 'drop', ['carID'])])),\n",
       "                ('catboostregressor',\n",
       "                 <catboost.core.CatBoostRegressor object at 0x141b8cc70>)])"
      ]
     },
     "execution_count": 25,
     "metadata": {},
     "output_type": "execute_result"
    }
   ],
   "source": [
    "pipe_catboost.fit(X_train, y_train)"
   ]
  },
  {
   "cell_type": "code",
   "execution_count": 26,
   "id": "561d3ad6-8fa2-45a0-aea3-4897aec2813b",
   "metadata": {},
   "outputs": [],
   "source": [
    "catboost_explainer = shap.TreeExplainer(pipe_catboost.named_steps[\"catboostregressor\"])\n",
    "train_catboost_shap_values = catboost_explainer.shap_values(X_train_encode)"
   ]
  },
  {
   "cell_type": "code",
   "execution_count": 27,
   "id": "7d70b2fc-6a7a-49ae-9220-d5451f62ec3e",
   "metadata": {},
   "outputs": [
    {
     "data": {
      "image/png": "[encoded data removed]",
      "text/plain": [
       "<Figure size 576x684 with 1 Axes>"
      ]
     },
     "metadata": {
      "needs_background": "light"
     },
     "output_type": "display_data"
    }
   ],
   "source": [
    "shap.summary_plot(train_catboost_shap_values, X_train_encode, plot_type=\"bar\")"
   ]
  },
  {
   "cell_type": "code",
   "execution_count": 28,
   "id": "74da4441-9586-471e-a3f1-e31c4cfc2277",
   "metadata": {},
   "outputs": [
    {
     "data": {
      "image/png": "[encoded data removed]",
      "text/plain": [
       "<Figure size 576x684 with 2 Axes>"
      ]
     },
     "metadata": {
      "needs_background": "light"
     },
     "output_type": "display_data"
    }
   ],
   "source": [
    "shap.summary_plot(train_catboost_shap_values, X_train_encode)"
   ]
  },
  {
   "cell_type": "code",
   "execution_count": 39,
   "id": "8a4c583c-1858-4c6c-a22e-bdccfcb85ff2",
   "metadata": {},
   "outputs": [],
   "source": [
    "X_test = pd.read_csv(\"../data/raw/X_test.csv\", parse_dates=['year'])\n",
    "X_test['year'] = X_test['year'].dt.year\n",
    "y_test = pd.read_csv(\"../data/raw/y_test.csv\")"
   ]
  },
  {
   "cell_type": "code",
   "execution_count": 40,
   "id": "6e390d39-8296-4ca0-ba22-e1d25bafca58",
   "metadata": {},
   "outputs": [],
   "source": [
    "X_test_encode = pd.DataFrame(\n",
    "    data=preprocessor.transform(X_test).toarray(),\n",
    "    columns=feature_names,\n",
    "    index=X_test.index,\n",
    ")"
   ]
  },
  {
   "cell_type": "code",
   "execution_count": 41,
   "id": "4b7f86ec-4b29-4636-9dff-2812e8085aa0",
   "metadata": {},
   "outputs": [],
   "source": [
    "test_catboost_shap_values = catboost_explainer.shap_values(X_test_encode)"
   ]
  },
  {
   "cell_type": "code",
   "execution_count": 42,
   "id": "54da4d55-7068-43a0-8f9a-39117a1c5c96",
   "metadata": {},
   "outputs": [],
   "source": [
    "X_test_encode = X_test_encode.round(2)"
   ]
  },
  {
   "cell_type": "code",
   "execution_count": 43,
   "id": "aa25d7f5-269a-4e06-a7d6-f57a10e0a400",
   "metadata": {},
   "outputs": [
    {
     "data": {
      "image/png": "[encoded data removed]",
      "text/plain": [
       "<Figure size 1440x216 with 1 Axes>"
      ]
     },
     "metadata": {
      "needs_background": "light"
     },
     "output_type": "display_data"
    }
   ],
   "source": [
    "shap.force_plot(\n",
    "    catboost_explainer.expected_value,\n",
    "    test_catboost_shap_values[8],\n",
    "    X_test_encode.loc[8, :],\n",
    "    matplotlib=True,\n",
    ")"
   ]
  },
  {
   "cell_type": "code",
   "execution_count": 50,
   "id": "24cbc8d1-34c9-4da8-9d1b-2a87a9ecfb63",
   "metadata": {},
   "outputs": [],
   "source": [
    "y_predict = pipe_catboost.predict(X_test)"
   ]
  },
  {
   "cell_type": "code",
   "execution_count": 55,
   "id": "bb765830-14a5-4739-aa0b-b52143451eb6",
   "metadata": {},
   "outputs": [
    {
     "data": {
      "text/plain": [
       "array([40661.63023434, 24844.15085323, 56554.81495673, ...,\n",
       "       21345.91145177, 20662.7712638 , -1560.38596161])"
      ]
     },
     "execution_count": 55,
     "metadata": {},
     "output_type": "execute_result"
    }
   ],
   "source": [
    "y_predict"
   ]
  },
  {
   "cell_type": "code",
   "execution_count": 59,
   "id": "940dd389-1843-4633-b036-da6c3d9c9033",
   "metadata": {},
   "outputs": [
    {
     "data": {
      "text/plain": [
       "0.9559206801347232"
      ]
     },
     "execution_count": 59,
     "metadata": {},
     "output_type": "execute_result"
    }
   ],
   "source": [
    "r2_score(y_test['price'], y_predict)"
   ]
  }
 ],
 "metadata": {
  "kernelspec": {
   "display_name": "Python [conda env:573]",
   "language": "python",
   "name": "conda-env-573-py"
  },
  "language_info": {
   "codemirror_mode": {
    "name": "ipython",
    "version": 3
   },
   "file_extension": ".py",
   "mimetype": "text/x-python",
   "name": "python",
   "nbconvert_exporter": "python",
   "pygments_lexer": "ipython3",
   "version": "3.9.7"
  }
 },
 "nbformat": 4,
 "nbformat_minor": 5
}
